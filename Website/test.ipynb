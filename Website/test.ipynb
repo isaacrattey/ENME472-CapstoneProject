{
 "cells": [
  {
   "cell_type": "code",
   "execution_count": 1,
   "source": [
    "from flask import Flask\r\n",
    "\r\n",
    "app = Flask(__name__)\r\n",
    "\r\n",
    "\r\n",
    "@app.route('/')\r\n",
    "def hello():\r\n",
    "    return 'Hello, World!'"
   ],
   "outputs": [],
   "metadata": {}
  }
 ],
 "metadata": {
  "orig_nbformat": 4,
  "language_info": {
   "name": "python",
   "version": "3.9.7",
   "mimetype": "text/x-python",
   "codemirror_mode": {
    "name": "ipython",
    "version": 3
   },
   "pygments_lexer": "ipython3",
   "nbconvert_exporter": "python",
   "file_extension": ".py"
  },
  "kernelspec": {
   "name": "python3",
   "display_name": "Python 3.9.7 64-bit ('enme472': conda)"
  },
  "interpreter": {
   "hash": "b4e675df7c56fab08ae44ce60f4a41dcd9f60b92e1c796ab47988b4ed38b3e79"
  }
 },
 "nbformat": 4,
 "nbformat_minor": 2
}